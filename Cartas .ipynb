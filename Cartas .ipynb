{
 "cells": [
  {
   "cell_type": "code",
   "execution_count": 2,
   "id": "d6c937e3",
   "metadata": {
    "scrolled": true
   },
   "outputs": [],
   "source": [
    "import this"
   ]
  },
  {
   "cell_type": "markdown",
   "id": "fe079156",
   "metadata": {},
   "source": [
    "# Primera Carta"
   ]
  },
  {
   "cell_type": "markdown",
   "id": "2e77b968",
   "metadata": {},
   "source": [
    "Hola Juan David del futuro, ya tienes 18 años, quiero decirte que lo estas logrando, hay que seguir con todas las ganas, recuerda donde estabamos, y para donde queremos llegar, recuerda que los conocimientos y habilidades suman, pero la actitud multiplica, asi que vamos por ese promedio de 5, siempre sin perder la nobleza y la humildad."
   ]
  },
  {
   "cell_type": "markdown",
   "id": "a0548873",
   "metadata": {},
   "source": [
    "# Segunda Cartas"
   ]
  },
  {
   "cell_type": "markdown",
   "id": "20685103",
   "metadata": {},
   "source": [
    "Hola Juan, ya han pasado 10 años, tienes 27 años, terminaste siendo el mejor estudiante, tenemos el trabajo de nuestros sueños, las cosas que mas hemos querido ya estan a nuestro alcance, siempre hemos querido la libertad financiera, junto con darle todo a mi mamá y mi papá, ganando con nuestros ingresos pasivos y activos estamos llegando a los 20'000.000 millones mensuales, queriendo aumentar esta cifra cada año, para que ya sea cada mes, ya faltando 3 años para nuestro retiro, por los sueños se hacen realidad."
   ]
  },
  {
   "cell_type": "code",
   "execution_count": 66,
   "id": "7e5ade97",
   "metadata": {
    "scrolled": false
   },
   "outputs": [
    {
     "name": "stdout",
     "output_type": "stream",
     "text": [
      "¿Cúal es tu nombre? Juan David\n"
     ]
    },
    {
     "data": {
      "text/plain": [
       "'Juan David'"
      ]
     },
     "execution_count": 66,
     "metadata": {},
     "output_type": "execute_result"
    }
   ],
   "source": [
    "Nombre = input('¿Cúal es tu nombre? ')\n",
    "Nombre"
   ]
  },
  {
   "cell_type": "code",
   "execution_count": 67,
   "id": "f0b9f28d",
   "metadata": {
    "scrolled": true
   },
   "outputs": [
    {
     "name": "stdout",
     "output_type": "stream",
     "text": [
      "¿Cuántos años tienes? 18\n"
     ]
    },
    {
     "data": {
      "text/plain": [
       "18"
      ]
     },
     "execution_count": 67,
     "metadata": {},
     "output_type": "execute_result"
    }
   ],
   "source": [
    "Edad = int(input('¿Cuántos años tienes? '))\n",
    "Edad"
   ]
  },
  {
   "cell_type": "code",
   "execution_count": 68,
   "id": "6c90621a",
   "metadata": {},
   "outputs": [
    {
     "name": "stdout",
     "output_type": "stream",
     "text": [
      "¿Promedio que quieres?5\n"
     ]
    },
    {
     "data": {
      "text/plain": [
       "5"
      ]
     },
     "execution_count": 68,
     "metadata": {},
     "output_type": "execute_result"
    }
   ],
   "source": [
    "Promedio = int(input('¿Promedio que quieres?'))\n",
    "Promedio"
   ]
  },
  {
   "cell_type": "code",
   "execution_count": 104,
   "id": "69ed439e",
   "metadata": {
    "scrolled": false
   },
   "outputs": [
    {
     "name": "stdout",
     "output_type": "stream",
     "text": [
      "                                                          Primera Carta                                                           \n",
      "Hola  Juan David del futuro, ya tienes 18                                                                                                  años, quiero decirte que lo estas logrando, hay que seguir con todas las ganas, recuerda donde estabamos, y para donde queremos llegar, recuerda que los conocimientos y habilidades suman, pero la actitud multiplica, asi que vamos por ese promedio de, Promedio, siempre sin perder la nobleza y la humildad.                                                                                                  \n"
     ]
    }
   ],
   "source": [
    "print('Primera Carta' .center(130, ' '))  \n",
    "print('Hola ', Nombre, 'del futuro, ya tienes', Edad, 'años, quiero decirte que lo estas logrando, hay que seguir con todas las ganas, recuerda donde estabamos, y para donde queremos llegar, recuerda que los conocimientos y habilidades suman, pero la actitud multiplica, asi que vamos por ese promedio de, Promedio, siempre sin perder la nobleza y la humildad.' .center(500, ' '))"
   ]
  },
  {
   "cell_type": "code",
   "execution_count": 8,
   "id": "13b7ba1f",
   "metadata": {
    "scrolled": true
   },
   "outputs": [
    {
     "name": "stdout",
     "output_type": "stream",
     "text": [
      "¿Cual es tu nombre? Juan\n"
     ]
    },
    {
     "data": {
      "text/plain": [
       "'Juan'"
      ]
     },
     "execution_count": 8,
     "metadata": {},
     "output_type": "execute_result"
    }
   ],
   "source": [
    "nombre = input('¿Cual es tu nombre? ')\n",
    "nombre"
   ]
  },
  {
   "cell_type": "code",
   "execution_count": 9,
   "id": "73d76c6a",
   "metadata": {
    "scrolled": true
   },
   "outputs": [
    {
     "name": "stdout",
     "output_type": "stream",
     "text": [
      "¿Cuál es tu edad? 27\n"
     ]
    },
    {
     "data": {
      "text/plain": [
       "27"
      ]
     },
     "execution_count": 9,
     "metadata": {},
     "output_type": "execute_result"
    }
   ],
   "source": [
    "edad = int(input('¿Cuál es tu edad? '))\n",
    "edad"
   ]
  },
  {
   "cell_type": "code",
   "execution_count": 30,
   "id": "f152d1a3",
   "metadata": {
    "scrolled": true
   },
   "outputs": [
    {
     "name": "stdout",
     "output_type": "stream",
     "text": [
      "¿Cuánto ganas? 50000000\n"
     ]
    },
    {
     "data": {
      "text/plain": [
       "50000000"
      ]
     },
     "execution_count": 30,
     "metadata": {},
     "output_type": "execute_result"
    }
   ],
   "source": [
    "ingreso = int(input('¿Cuánto ganas? '))\n",
    "ingreso"
   ]
  },
  {
   "cell_type": "code",
   "execution_count": 25,
   "id": "4a2e9034",
   "metadata": {
    "scrolled": true
   },
   "outputs": [
    {
     "name": "stdout",
     "output_type": "stream",
     "text": [
      "Dependiendo de los años en tu carta, \n",
      " ¿Cuantos años te faltan para eñ retiro? 3\n"
     ]
    },
    {
     "data": {
      "text/plain": [
       "3"
      ]
     },
     "execution_count": 25,
     "metadata": {},
     "output_type": "execute_result"
    }
   ],
   "source": [
    "retiro = int(input('Dependiendo de los años en tu carta, \\n ¿Cuantos años te faltan para eñ retiro? '))\n",
    "retiro"
   ]
  },
  {
   "cell_type": "code",
   "execution_count": 105,
   "id": "8a5a50b5",
   "metadata": {
    "scrolled": true
   },
   "outputs": [
    {
     "name": "stdout",
     "output_type": "stream",
     "text": [
      "**********************************************************Segunda Carta***********************************************************\n",
      " Hola Juan , ya han pasado 10 años, tienes 27 años, terminaste siendo el mejor estudiante, tenemos el trabajo de nuestros sueños, las cosas que mas hemos querido ya estan a nuestro alcance, siempre hemos querido la libertad financiera, junto con darle todo a mi mamá y mi papá, ganando con nuestros ingresos pasivos y activos estamos llegando a los: 50000000 COP mensuales, queriendo aumentar esta cifra cada año, para que ya sea cada mes, ya faltando 3 años para nuestro retiro, los sueños se hacen realidad------------------------------------------------------------------------------------------------------------------------------------------------------------------------------------------------------------------------------------------------------------------------------------------------------------------------------------------------------------------------------------------------------------------------------------------------------------------------------------------------------------\n"
     ]
    }
   ],
   "source": [
    "print('Segunda Carta' .center(130, '*'))\n",
    "print(f' Hola {nombre} , ya han pasado 10 años, tienes {edad} años, terminaste siendo el mejor estudiante, tenemos el trabajo de nuestros sueños, las cosas que mas hemos querido ya estan a nuestro alcance, siempre hemos querido la libertad financiera, junto con darle todo a mi mamá y mi papá, ganando con nuestros ingresos pasivos y activos estamos llegando a los: {ingreso} COP mensuales, queriendo aumentar esta cifra cada año, para que ya sea cada mes, ya faltando {retiro} años para nuestro retiro, los sueños se hacen realidad' .ljust(1000, '-'))"
   ]
  }
 ],
 "metadata": {
  "kernelspec": {
   "display_name": "Python 3 (ipykernel)",
   "language": "python",
   "name": "python3"
  },
  "language_info": {
   "codemirror_mode": {
    "name": "ipython",
    "version": 3
   },
   "file_extension": ".py",
   "mimetype": "text/x-python",
   "name": "python",
   "nbconvert_exporter": "python",
   "pygments_lexer": "ipython3",
   "version": "3.9.7"
  }
 },
 "nbformat": 4,
 "nbformat_minor": 5
}
